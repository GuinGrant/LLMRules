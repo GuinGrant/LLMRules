{
  "nbformat": 4,
  "nbformat_minor": 0,
  "metadata": {
    "colab": {
      "provenance": [],
      "gpuType": "A100"
    },
    "kernelspec": {
      "name": "python3",
      "display_name": "Python 3"
    },
    "language_info": {
      "name": "python"
    },
    "accelerator": "GPU"
  },
  "cells": [
    {
      "cell_type": "code",
      "execution_count": null,
      "metadata": {
        "id": "tuquqMBQtGPc"
      },
      "outputs": [],
      "source": [
        "# ======================================\n",
        "# 1. Install Required Libraries\n",
        "# ======================================\n",
        "!pip install -q transformers accelerate peft datasets bitsandbytes\n",
        "\n",
        "# ======================================\n",
        "# 2. Imports\n",
        "# ======================================\n",
        "from transformers import AutoModelForCausalLM, AutoTokenizer, TrainingArguments, Trainer\n",
        "from peft import PromptTuningConfig, get_peft_model, TaskType\n",
        "from datasets import load_dataset\n",
        "import torch\n"
      ]
    },
    {
      "cell_type": "code",
      "source": [
        "!pip install -q psutil gputil\n",
        "import threading, psutil, time\n",
        "import GPUtil\n",
        "\n",
        "def monitor_ram(interval=5):\n",
        "    while True:\n",
        "        mem = psutil.virtual_memory()\n",
        "        print(f\"[RAM] Used: {mem.used / 1024**3:.2f} GB | \"\n",
        "              f\"Available: {mem.available / 1024**3:.2f} GB | \"\n",
        "              f\"Usage: {mem.percent:.1f}%\")\n",
        "        time.sleep(interval)\n",
        "\n",
        "def monitor_gpu(interval=5):\n",
        "    while True:\n",
        "        gpus = GPUtil.getGPUs()\n",
        "        for gpu in gpus:\n",
        "            print(f\"[GPU] {gpu.name} | {gpu.memoryUsed:.0f} MB / {gpu.memoryTotal:.0f} MB \"\n",
        "                  f\"({gpu.memoryUtil*100:.1f}%)\")\n",
        "        time.sleep(interval)\n",
        "\n",
        "# Start background threads\n",
        "threading.Thread(target=monitor_ram, daemon=True).start()\n",
        "threading.Thread(target=monitor_gpu, daemon=True).start()"
      ],
      "metadata": {
        "id": "mHBs1rF7siDx"
      },
      "execution_count": null,
      "outputs": []
    },
    {
      "cell_type": "code",
      "source": [
        "from huggingface_hub import login\n",
        "from getpass import getpass\n",
        "\n",
        "token = getpass(\"🔑 Enter your Hugging Face token: \")\n",
        "login(token)"
      ],
      "metadata": {
        "id": "Gtqo3hHjx3Jo"
      },
      "execution_count": null,
      "outputs": []
    },
    {
      "cell_type": "code",
      "source": [
        "# ======================================\n",
        "# 3. Load Mistral 7B in 4-bit (memory efficient)\n",
        "# ======================================\n",
        "model_name = \"mistralai/Mistral-7B-v0.1\"\n",
        "\n",
        "tokenizer = AutoTokenizer.from_pretrained(model_name)\n",
        "tokenizer.pad_token = tokenizer.eos_token\n",
        "\n",
        "model = AutoModelForCausalLM.from_pretrained(\n",
        "    model_name,\n",
        "    device_map=\"auto\",\n",
        "    torch_dtype=torch.float16\n",
        ")\n"
      ],
      "metadata": {
        "id": "j2bpdVeMx8ZU"
      },
      "execution_count": null,
      "outputs": []
    },
    {
      "cell_type": "code",
      "source": [
        "# ======================================\n",
        "# 4. Load & Prepare Dataset\n",
        "# Format: {\"prompt\": ..., \"response\": ...}\n",
        "# ======================================\n",
        "from datasets import Dataset\n",
        "\n",
        "# Load JSONL manually and convert to Dataset\n",
        "import json\n",
        "\n",
        "with open(\"prompt_snort_rule.jsonl\", \"r\", encoding=\"utf-8\") as f:\n",
        "    data = [json.loads(line) for line in f]\n",
        "\n",
        "dataset = Dataset.from_list(data)\n",
        "\n",
        "def preprocess(example):\n",
        "    full_prompt = f\"### Question: {example['prompt']}\\n### Answer: {example['response']}\"\n",
        "    tokenized = tokenizer(full_prompt, padding=\"max_length\", truncation=True, max_length=512)\n",
        "    tokenized[\"labels\"] = tokenized[\"input_ids\"].copy()  # 👈 add this line\n",
        "    return tokenized\n",
        "\n",
        "dataset = dataset.map(preprocess)\n",
        "\n",
        "# Split dataset\n",
        "train_test = dataset.train_test_split(test_size=0.2, seed=42)\n",
        "train_data = train_test[\"train\"]\n",
        "eval_data = train_test[\"test\"]\n"
      ],
      "metadata": {
        "id": "68118a7HyClY"
      },
      "execution_count": null,
      "outputs": []
    },
    {
      "cell_type": "code",
      "source": [
        "# ======================================\n",
        "# 5. Setup Prompt Tuning\n",
        "# ======================================\n",
        "peft_config = PromptTuningConfig(\n",
        "    task_type=TaskType.CAUSAL_LM,\n",
        "    prompt_tuning_init=\"TEXT\",\n",
        "    prompt_tuning_init_text=\"### Question: What is the capital of France?\\n### Answer: Paris.\",\n",
        "    num_virtual_tokens=20,\n",
        "    tokenizer_name_or_path=model_name\n",
        ")\n",
        "\n",
        "model = get_peft_model(model, peft_config)\n",
        "\n",
        "# ======================================\n",
        "# 6. Training Arguments\n",
        "# ======================================\n",
        "training_args = TrainingArguments(\n",
        "    output_dir=\"./mistral_prompt_tuned\",   # Save dir\n",
        "    per_device_train_batch_size=2,\n",
        "    gradient_accumulation_steps=4,\n",
        "    max_steps=1000,                         # <-- Set this\n",
        "    logging_steps=10,\n",
        "    save_strategy=\"epoch\",\n",
        "    learning_rate=1e-4,\n",
        "    fp16=not torch.cuda.is_bf16_supported(),\n",
        "    bf16=torch.cuda.is_bf16_supported(),\n",
        "    weight_decay=0.01,\n",
        "    lr_scheduler_type=\"linear\",\n",
        "    seed=3407,\n",
        "    report_to=\"none\",\n",
        ")\n",
        "\n",
        "# ======================================\n",
        "# 7. Trainer & Start Training\n",
        "# ======================================\n",
        "\n",
        "\n",
        "trainer = Trainer(\n",
        "    model=model,\n",
        "    args=training_args,\n",
        "    train_dataset=train_data\n",
        ")\n"
      ],
      "metadata": {
        "id": "IY8VZOfNyJ6w"
      },
      "execution_count": null,
      "outputs": []
    },
    {
      "cell_type": "code",
      "source": [
        "\n",
        "trainer.train()\n"
      ],
      "metadata": {
        "id": "snQllsGJyMh2"
      },
      "execution_count": null,
      "outputs": []
    },
    {
      "cell_type": "code",
      "source": [
        "# Save the tuned adapter\n",
        "model.save_pretrained(\"./mistral_prompt_tuned\")"
      ],
      "metadata": {
        "id": "1BVt3TF7yQsE"
      },
      "execution_count": null,
      "outputs": []
    },
    {
      "cell_type": "code",
      "source": [
        "# zip for download\n",
        "!zip -r mistral_prompt_tuned.zip mistral_prompt_tuned"
      ],
      "metadata": {
        "id": "A7emZIR6xmBh"
      },
      "execution_count": null,
      "outputs": []
    }
  ]
}