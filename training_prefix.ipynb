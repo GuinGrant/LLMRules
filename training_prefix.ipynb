{
  "nbformat": 4,
  "nbformat_minor": 0,
  "metadata": {
    "colab": {
      "provenance": [],
      "gpuType": "A100"
    },
    "kernelspec": {
      "name": "python3",
      "display_name": "Python 3"
    },
    "language_info": {
      "name": "python"
    },
    "accelerator": "GPU"
  },
  "cells": [
    {
      "cell_type": "code",
      "source": [
        "# 1. Install necessary libraries\n",
        "!pip install -q git+https://github.com/huggingface/transformers.git \\\n",
        "                git+https://github.com/huggingface/peft.git \\\n",
        "                datasets accelerate bitsandbytes\n",
        "!pip install -U transformers"
      ],
      "metadata": {
        "id": "wOs4HU3tVwdV"
      },
      "execution_count": null,
      "outputs": []
    },
    {
      "cell_type": "code",
      "source": [
        "!pip install -q psutil gputil\n",
        "import threading, psutil, time\n",
        "import GPUtil\n",
        "\n",
        "def monitor_ram(interval=5):\n",
        "    while True:\n",
        "        mem = psutil.virtual_memory()\n",
        "        print(f\"[RAM] Used: {mem.used / 1024**3:.2f} GB | \"\n",
        "              f\"Available: {mem.available / 1024**3:.2f} GB | \"\n",
        "              f\"Usage: {mem.percent:.1f}%\")\n",
        "        time.sleep(interval)\n",
        "\n",
        "def monitor_gpu(interval=5):\n",
        "    while True:\n",
        "        gpus = GPUtil.getGPUs()\n",
        "        for gpu in gpus:\n",
        "            print(f\"[GPU] {gpu.name} | {gpu.memoryUsed:.0f} MB / {gpu.memoryTotal:.0f} MB \"\n",
        "                  f\"({gpu.memoryUtil*100:.1f}%)\")\n",
        "        time.sleep(interval)\n",
        "\n",
        "# Start background threads\n",
        "threading.Thread(target=monitor_ram, daemon=True).start()\n",
        "threading.Thread(target=monitor_gpu, daemon=True).start()"
      ],
      "metadata": {
        "id": "rJNH0JZose3b"
      },
      "execution_count": null,
      "outputs": []
    },
    {
      "cell_type": "code",
      "source": [
        "from huggingface_hub import login\n",
        "from getpass import getpass\n",
        "\n",
        "token = getpass(\"🔑 Enter your Hugging Face token: \")\n",
        "login(token)\n"
      ],
      "metadata": {
        "id": "c2TIg4QjXdJc"
      },
      "execution_count": null,
      "outputs": []
    },
    {
      "cell_type": "code",
      "execution_count": null,
      "metadata": {
        "id": "48-ZNS6xJUkg"
      },
      "outputs": [],
      "source": [
        "\n",
        "# 2. Load tokenizer and model (Mistral 7B, 4-bit quantized)\n",
        "from transformers import AutoModelForCausalLM, AutoTokenizer, BitsAndBytesConfig\n",
        "from peft import get_peft_model, PrefixTuningConfig, TaskType\n",
        "import torch\n",
        "\n",
        "model_name = \"mistralai/Mistral-7B-v0.1\"\n",
        "\n",
        "tokenizer = AutoTokenizer.from_pretrained(model_name)\n",
        "tokenizer.pad_token = tokenizer.eos_token\n",
        "\n",
        "model = AutoModelForCausalLM.from_pretrained(\n",
        "    model_name,\n",
        "    device_map=\"auto\",\n",
        "    torch_dtype=torch.float16  # or torch.float32 for full precision\n",
        ")\n"
      ]
    },
    {
      "cell_type": "code",
      "source": [
        "# 3. Load dataset from file\n",
        "from datasets import Dataset\n",
        "import json\n",
        "\n",
        "file_path = \"prompt_snort_rule.jsonl\"  # Make sure the path is correct\n",
        "\n",
        "with open(file_path, 'r') as f:\n",
        "    data = [json.loads(line) for line in f]\n",
        "\n",
        "# Convert to Hugging Face Dataset\n",
        "dataset = Dataset.from_list(data)\n",
        "\n",
        "# Shuffle it\n",
        "dataset = dataset.shuffle(seed=42)\n",
        "\n",
        "# 4. Split into 80/10/10\n",
        "train_size = int(0.8 * len(dataset))\n",
        "val_size = int(0.1 * len(dataset))\n",
        "train_dataset = dataset.select(range(train_size))\n",
        "val_dataset = dataset.select(range(train_size, train_size + val_size))\n",
        "test_dataset = dataset.select(range(train_size + val_size, len(dataset)))\n",
        "\n",
        "\n",
        "\n",
        "# 5. Save test set to TXT for manual testing\n",
        "with open(\"test_set.txt\", \"w\") as f:\n",
        "    for item in test_dataset:\n",
        "        f.write(f\"Prompt: {item['prompt']}\\nResponse: {item['response']}\\n\\n\")\n",
        "\n"
      ],
      "metadata": {
        "id": "zoEFnjbtYIrR"
      },
      "execution_count": null,
      "outputs": []
    },
    {
      "cell_type": "code",
      "source": [
        "# 6. Tokenize datasets\n",
        "def preprocess(example):\n",
        "    text = f\"### Question: {example['prompt']}\\n### Answer: {example['response']}\"\n",
        "    encoding = tokenizer(text, padding=\"max_length\", truncation=True, max_length=256)\n",
        "    encoding[\"labels\"] = encoding[\"input_ids\"].copy()\n",
        "    return encoding\n",
        "\n",
        "train_dataset = train_dataset.map(preprocess)\n",
        "val_dataset = val_dataset.map(preprocess)\n",
        "\n",
        "\n",
        "# 7. Prefix Tuning config\n",
        "peft_config = PrefixTuningConfig(\n",
        "    task_type=TaskType.CAUSAL_LM,\n",
        "    num_virtual_tokens=20,\n",
        "    encoder_hidden_size=model.config.hidden_size,\n",
        ")\n",
        "\n",
        "prefix_model = get_peft_model(model, peft_config)\n",
        "\n",
        "# 8. Training arguments\n",
        "from transformers import TrainingArguments, Trainer\n",
        "\n",
        "training_args = TrainingArguments(\n",
        "    output_dir=\"./mistral_prefix_tuned\",    # Directory for checkpoints\n",
        "    per_device_train_batch_size=2,\n",
        "    gradient_accumulation_steps=4,\n",
        "    max_steps=1000,                         # <-- Set this\n",
        "    logging_steps=10,\n",
        "    save_strategy=\"epoch\",\n",
        "    learning_rate=1e-4,\n",
        "    fp16=not torch.cuda.is_bf16_supported(),\n",
        "    bf16=torch.cuda.is_bf16_supported(),\n",
        "    weight_decay=0.01,\n",
        "    lr_scheduler_type=\"linear\",\n",
        "    seed=3407,\n",
        "    report_to=\"none\",                    # Disable W&B/loggers\n",
        ")\n",
        "\n",
        "trainer = Trainer(\n",
        "    model=prefix_model,\n",
        "    args=training_args,\n",
        "    train_dataset=train_dataset,\n",
        "    eval_dataset=val_dataset,\n",
        ")\n",
        "\n"
      ],
      "metadata": {
        "id": "p0UPsmIYXIEM"
      },
      "execution_count": null,
      "outputs": []
    },
    {
      "cell_type": "code",
      "source": [
        "# 9. Train\n",
        "trainer.train()\n"
      ],
      "metadata": {
        "id": "oQmjNL-7XKLI"
      },
      "execution_count": null,
      "outputs": []
    },
    {
      "cell_type": "code",
      "source": [
        "\n",
        "# 10. Save model\n",
        "prefix_model.save_pretrained(\"./mistral_prefix_tuned\")"
      ],
      "metadata": {
        "id": "4wck5XmHXLKC"
      },
      "execution_count": null,
      "outputs": []
    },
    {
      "cell_type": "code",
      "source": [
        "# zip for download\n",
        "!zip -r mistral_prefix_tuned.zip mistral_prefix_tuned"
      ],
      "metadata": {
        "id": "0I6thyTOa5XB"
      },
      "execution_count": null,
      "outputs": []
    }
  ]
}